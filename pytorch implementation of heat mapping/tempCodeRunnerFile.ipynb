plt.xticks(numpy.array([]))
        plt.yticks(numpy.array([])